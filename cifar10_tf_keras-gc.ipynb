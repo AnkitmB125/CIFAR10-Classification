{
 "cells": [
  {
   "cell_type": "code",
   "execution_count": 0,
   "metadata": {
    "colab": {},
    "colab_type": "code",
    "id": "HP4Bi2Uwh3T-"
   },
   "outputs": [],
   "source": [
    "import numpy as np\n",
    "import pandas as pd\n",
    "import matplotlib.pyplot as plt\n",
    "%matplotlib inline\n",
    "from sklearn.model_selection import train_test_split\n",
    "from sklearn.metrics import accuracy_score, confusion_matrix\n",
    "import tensorflow as tf\n",
    "from tensorflow.keras.layers import Conv2D, Flatten, MaxPooling2D, Dense, Dropout, Activation\n",
    "from tensorflow.keras.models import Sequential\n",
    "from tensorflow.keras.utils import to_categorical\n",
    "from keras.preprocessing.image import ImageDataGenerator\n",
    "import keras"
   ]
  },
  {
   "cell_type": "code",
   "execution_count": 0,
   "metadata": {
    "colab": {},
    "colab_type": "code",
    "id": "I92YbnmBh3UN"
   },
   "outputs": [],
   "source": [
    "import os"
   ]
  },
  {
   "cell_type": "code",
   "execution_count": 0,
   "metadata": {
    "colab": {},
    "colab_type": "code",
    "id": "bmChTCwLh3UR"
   },
   "outputs": [],
   "source": [
    "from tensorflow.keras.datasets import cifar10"
   ]
  },
  {
   "cell_type": "code",
   "execution_count": 0,
   "metadata": {
    "colab": {
     "base_uri": "https://localhost:8080/",
     "height": 51
    },
    "colab_type": "code",
    "id": "MAbw85q6h3UV",
    "outputId": "ae8ef8d0-4403-4c34-f5b2-1b31cf731085"
   },
   "outputs": [
    {
     "name": "stdout",
     "output_type": "stream",
     "text": [
      "Downloading data from https://www.cs.toronto.edu/~kriz/cifar-10-python.tar.gz\n",
      "170500096/170498071 [==============================] - 21s 0us/step\n"
     ]
    }
   ],
   "source": [
    "(x_train, y_train), (x_test, y_test) = cifar10.load_data()"
   ]
  },
  {
   "cell_type": "code",
   "execution_count": 0,
   "metadata": {
    "colab": {},
    "colab_type": "code",
    "id": "U3W4NKSUh3Uf"
   },
   "outputs": [],
   "source": [
    "y_train = to_categorical(num_classes=10,y=y_train)"
   ]
  },
  {
   "cell_type": "code",
   "execution_count": 0,
   "metadata": {
    "colab": {
     "base_uri": "https://localhost:8080/",
     "height": 34
    },
    "colab_type": "code",
    "id": "fhxpDexTh3Uk",
    "outputId": "0d9df8ac-bf14-4aec-c6e9-883554a5dbd7"
   },
   "outputs": [
    {
     "data": {
      "text/plain": [
       "(50000, 32, 32, 3)"
      ]
     },
     "execution_count": 10,
     "metadata": {
      "tags": []
     },
     "output_type": "execute_result"
    }
   ],
   "source": [
    "x_train.shape"
   ]
  },
  {
   "cell_type": "code",
   "execution_count": 0,
   "metadata": {
    "colab": {
     "base_uri": "https://localhost:8080/",
     "height": 283
    },
    "colab_type": "code",
    "id": "YOLGNo-gh3Up",
    "outputId": "1b16340b-7d79-4413-8e9b-8ed0dea8cd2e"
   },
   "outputs": [
    {
     "data": {
      "text/plain": [
       "<matplotlib.image.AxesImage at 0x7fb8837204e0>"
      ]
     },
     "execution_count": 11,
     "metadata": {
      "tags": []
     },
     "output_type": "execute_result"
    },
    {
     "data": {
      "image/png": "[encoded data removed]",
      "text/plain": [
       "<matplotlib.figure.Figure at 0x7fb887650a90>"
      ]
     },
     "metadata": {
      "tags": []
     },
     "output_type": "display_data"
    }
   ],
   "source": [
    "plt.imshow(x_train[4])"
   ]
  },
  {
   "cell_type": "code",
   "execution_count": 0,
   "metadata": {
    "colab": {},
    "colab_type": "code",
    "id": "7ykrvr9kh3Uv"
   },
   "outputs": [],
   "source": [
    "batch_size = 128\n",
    "num_classes = 10\n",
    "epochs = 100"
   ]
  },
  {
   "cell_type": "code",
   "execution_count": 0,
   "metadata": {
    "colab": {},
    "colab_type": "code",
    "id": "7Tttsqj8h3U0"
   },
   "outputs": [],
   "source": [
    "x_train_train, x_val, y_train_train, y_val = train_test_split(x_train, y_train, test_size=0.1, random_state = 69)"
   ]
  },
  {
   "cell_type": "code",
   "execution_count": 0,
   "metadata": {
    "colab": {},
    "colab_type": "code",
    "id": "al4hSTfLh3U4"
   },
   "outputs": [],
   "source": [
    "x_train_train = x_train_train/255.0\n",
    "x_val = x_val/255.0"
   ]
  },
  {
   "cell_type": "code",
   "execution_count": 0,
   "metadata": {
    "colab": {
     "base_uri": "https://localhost:8080/",
     "height": 34
    },
    "colab_type": "code",
    "id": "I2bGPZjth3U8",
    "outputId": "7c4768ce-0604-467a-f03c-86761de8b3e4"
   },
   "outputs": [
    {
     "data": {
      "text/plain": [
       "(45000, 32, 32, 3)"
      ]
     },
     "execution_count": 15,
     "metadata": {
      "tags": []
     },
     "output_type": "execute_result"
    }
   ],
   "source": [
    "x_train_train.shape"
   ]
  },
  {
   "cell_type": "code",
   "execution_count": 0,
   "metadata": {
    "colab": {},
    "colab_type": "code",
    "id": "dU2fxAWyh3VB"
   },
   "outputs": [],
   "source": [
    "model = Sequential()"
   ]
  },
  {
   "cell_type": "code",
   "execution_count": 0,
   "metadata": {
    "colab": {},
    "colab_type": "code",
    "id": "tJcy8lgrh3VJ"
   },
   "outputs": [],
   "source": [
    "model.add(Conv2D(32, (3, 3), input_shape=x_train_train.shape[1:], activation='relu', padding='same'))\n",
    "model.add(Conv2D(32, (3,3), activation='relu'))\n",
    "model.add(MaxPooling2D(pool_size=(2,2), strides=2))\n",
    "model.add(Dropout(0.8))\n",
    "\n",
    "model.add(Conv2D(64, (3, 3), activation='relu', padding='same'))\n",
    "model.add(Conv2D(64, (3,3), activation='relu'))\n",
    "model.add(MaxPooling2D(pool_size=(2,2), strides=2))\n",
    "model.add(Dropout(0.8))\n",
    "\n",
    "model.add(Flatten())\n",
    "model.add(Dense(256, activation='relu'))\n",
    "model.add(Dropout(0.7))\n",
    "model.add(Dense(num_classes, activation='softmax'))"
   ]
  },
  {
   "cell_type": "code",
   "execution_count": 0,
   "metadata": {
    "colab": {
     "base_uri": "https://localhost:8080/",
     "height": 544
    },
    "colab_type": "code",
    "id": "zUEHGCofh3VQ",
    "outputId": "27217dfa-edb9-455c-93c4-bc42fa45b58f"
   },
   "outputs": [
    {
     "name": "stdout",
     "output_type": "stream",
     "text": [
      "_________________________________________________________________\n",
      "Layer (type)                 Output Shape              Param #   \n",
      "=================================================================\n",
      "conv2d (Conv2D)              (None, 32, 32, 32)        896       \n",
      "_________________________________________________________________\n",
      "conv2d_1 (Conv2D)            (None, 30, 30, 32)        9248      \n",
      "_________________________________________________________________\n",
      "max_pooling2d (MaxPooling2D) (None, 15, 15, 32)        0         \n",
      "_________________________________________________________________\n",
      "dropout (Dropout)            (None, 15, 15, 32)        0         \n",
      "_________________________________________________________________\n",
      "conv2d_2 (Conv2D)            (None, 15, 15, 64)        18496     \n",
      "_________________________________________________________________\n",
      "conv2d_3 (Conv2D)            (None, 13, 13, 64)        36928     \n",
      "_________________________________________________________________\n",
      "max_pooling2d_1 (MaxPooling2 (None, 6, 6, 64)          0         \n",
      "_________________________________________________________________\n",
      "dropout_1 (Dropout)          (None, 6, 6, 64)          0         \n",
      "_________________________________________________________________\n",
      "flatten (Flatten)            (None, 2304)              0         \n",
      "_________________________________________________________________\n",
      "dense (Dense)                (None, 256)               590080    \n",
      "_________________________________________________________________\n",
      "dropout_2 (Dropout)          (None, 256)               0         \n",
      "_________________________________________________________________\n",
      "dense_1 (Dense)              (None, 10)                2570      \n",
      "=================================================================\n",
      "Total params: 658,218\n",
      "Trainable params: 658,218\n",
      "Non-trainable params: 0\n",
      "_________________________________________________________________\n"
     ]
    }
   ],
   "source": [
    "model.summary()"
   ]
  },
  {
   "cell_type": "code",
   "execution_count": 0,
   "metadata": {
    "colab": {
     "base_uri": "https://localhost:8080/",
     "height": 544
    },
    "colab_type": "code",
    "id": "50YTr4Xkh3Vb",
    "outputId": "25f7599a-4e68-4b8e-8dd1-4ca409bc0e43"
   },
   "outputs": [
    {
     "name": "stdout",
     "output_type": "stream",
     "text": [
      "[name: \"/device:CPU:0\"\n",
      "device_type: \"CPU\"\n",
      "memory_limit: 268435456\n",
      "locality {\n",
      "}\n",
      "incarnation: 3054170917701071305\n",
      ", name: \"/device:XLA_CPU:0\"\n",
      "device_type: \"XLA_CPU\"\n",
      "memory_limit: 17179869184\n",
      "locality {\n",
      "}\n",
      "incarnation: 14369603402795747975\n",
      "physical_device_desc: \"device: XLA_CPU device\"\n",
      ", name: \"/device:XLA_GPU:0\"\n",
      "device_type: \"XLA_GPU\"\n",
      "memory_limit: 17179869184\n",
      "locality {\n",
      "}\n",
      "incarnation: 18222375605184421906\n",
      "physical_device_desc: \"device: XLA_GPU device\"\n",
      ", name: \"/device:GPU:0\"\n",
      "device_type: \"GPU\"\n",
      "memory_limit: 11281553818\n",
      "locality {\n",
      "  bus_id: 1\n",
      "  links {\n",
      "  }\n",
      "}\n",
      "incarnation: 9728762206219309990\n",
      "physical_device_desc: \"device: 0, name: Tesla K80, pci bus id: 0000:00:04.0, compute capability: 3.7\"\n",
      "]\n"
     ]
    }
   ],
   "source": [
    "from tensorflow.python.client import device_lib\n",
    "print(device_lib.list_local_devices())"
   ]
  },
  {
   "cell_type": "code",
   "execution_count": 0,
   "metadata": {
    "colab": {
     "base_uri": "https://localhost:8080/",
     "height": 34
    },
    "colab_type": "code",
    "id": "pj7CYWh1h3Vk",
    "outputId": "97a2f06b-75e4-4af1-c651-54cf0316948d"
   },
   "outputs": [
    {
     "data": {
      "text/plain": [
       "['/job:localhost/replica:0/task:0/device:GPU:0']"
      ]
     },
     "execution_count": 20,
     "metadata": {
      "tags": []
     },
     "output_type": "execute_result"
    }
   ],
   "source": [
    "from keras import backend as K\n",
    "K.tensorflow_backend._get_available_gpus()"
   ]
  },
  {
   "cell_type": "code",
   "execution_count": 0,
   "metadata": {
    "colab": {
     "base_uri": "https://localhost:8080/",
     "height": 34
    },
    "colab_type": "code",
    "id": "-a0-Om8kh3Vs",
    "outputId": "d7d36cd1-4420-41c8-8879-2137acc0fd6b"
   },
   "outputs": [
    {
     "data": {
      "text/plain": [
       "<function tensorflow.python.framework.test_util.is_gpu_available>"
      ]
     },
     "execution_count": 21,
     "metadata": {
      "tags": []
     },
     "output_type": "execute_result"
    }
   ],
   "source": [
    "tf.test.is_gpu_available"
   ]
  },
  {
   "cell_type": "code",
   "execution_count": 0,
   "metadata": {
    "colab": {
     "base_uri": "https://localhost:8080/",
     "height": 34
    },
    "colab_type": "code",
    "id": "flBGmeYlh3V2",
    "outputId": "0baad15b-24ad-4bc4-868f-668d879fb096"
   },
   "outputs": [
    {
     "data": {
      "text/plain": [
       "<function tensorflow.python.framework.test_util.gpu_device_name>"
      ]
     },
     "execution_count": 22,
     "metadata": {
      "tags": []
     },
     "output_type": "execute_result"
    }
   ],
   "source": [
    "tf.test.gpu_device_name"
   ]
  },
  {
   "cell_type": "code",
   "execution_count": 0,
   "metadata": {
    "colab": {},
    "colab_type": "code",
    "id": "if9PEVk4og9z"
   },
   "outputs": [],
   "source": [
    "myadam = keras.optimizers.Adam(lr=0.001, beta_1=0.9, beta_2=0.999, epsilon=None, decay=0.0, amsgrad=False)"
   ]
  },
  {
   "cell_type": "code",
   "execution_count": 0,
   "metadata": {
    "colab": {
     "base_uri": "https://localhost:8080/",
     "height": 34
    },
    "colab_type": "code",
    "id": "KOyKXMU2ow98",
    "outputId": "aca3cf71-0a85-4e6d-e48b-1fff7c997a93"
   },
   "outputs": [
    {
     "data": {
      "text/plain": [
       "<keras.optimizers.Adam at 0x7fb86e4beba8>"
      ]
     },
     "execution_count": 28,
     "metadata": {
      "tags": []
     },
     "output_type": "execute_result"
    }
   ],
   "source": [
    "myadam"
   ]
  },
  {
   "cell_type": "code",
   "execution_count": 0,
   "metadata": {
    "colab": {},
    "colab_type": "code",
    "id": "llUQrvkeh3WD"
   },
   "outputs": [],
   "source": [
    "model.compile(loss='categorical_crossentropy', optimizer='adam', metrics=['accuracy'])"
   ]
  },
  {
   "cell_type": "code",
   "execution_count": 0,
   "metadata": {
    "colab": {
     "base_uri": "https://localhost:8080/",
     "height": 3483
    },
    "colab_type": "code",
    "id": "h2wxtRnYj8UI",
    "outputId": "a9f6810a-c1dd-4539-a968-13baf7bf98a5"
   },
   "outputs": [
    {
     "name": "stdout",
     "output_type": "stream",
     "text": [
      "Train on 45000 samples, validate on 5000 samples\n",
      "Epoch 1/100\n",
      "45000/45000 [==============================] - 11s 240us/step - loss: 1.6361 - acc: 0.3869 - val_loss: 1.5869 - val_acc: 0.4208\n",
      "Epoch 2/100\n",
      "45000/45000 [==============================] - 10s 220us/step - loss: 1.6244 - acc: 0.3918 - val_loss: 1.5684 - val_acc: 0.4302\n",
      "Epoch 3/100\n",
      "45000/45000 [==============================] - 10s 222us/step - loss: 1.6048 - acc: 0.3987 - val_loss: 1.5339 - val_acc: 0.4416\n",
      "Epoch 4/100\n",
      "45000/45000 [==============================] - 10s 220us/step - loss: 1.6002 - acc: 0.4050 - val_loss: 1.5358 - val_acc: 0.4442\n",
      "Epoch 5/100\n",
      "45000/45000 [==============================] - 10s 221us/step - loss: 1.5960 - acc: 0.4027 - val_loss: 1.5354 - val_acc: 0.4428\n",
      "Epoch 6/100\n",
      "45000/45000 [==============================] - 10s 219us/step - loss: 1.5902 - acc: 0.4053 - val_loss: 1.5113 - val_acc: 0.4548\n",
      "Epoch 7/100\n",
      "45000/45000 [==============================] - 10s 222us/step - loss: 1.5841 - acc: 0.4082 - val_loss: 1.5191 - val_acc: 0.4522\n",
      "Epoch 8/100\n",
      "45000/45000 [==============================] - 10s 221us/step - loss: 1.5891 - acc: 0.4084 - val_loss: 1.5337 - val_acc: 0.4416\n",
      "Epoch 9/100\n",
      "45000/45000 [==============================] - 10s 215us/step - loss: 1.5831 - acc: 0.4105 - val_loss: 1.5027 - val_acc: 0.4572\n",
      "Epoch 10/100\n",
      "45000/45000 [==============================] - 10s 219us/step - loss: 1.5781 - acc: 0.4109 - val_loss: 1.5054 - val_acc: 0.4498\n",
      "Epoch 11/100\n",
      "45000/45000 [==============================] - 10s 222us/step - loss: 1.5775 - acc: 0.4155 - val_loss: 1.5040 - val_acc: 0.4504\n",
      "Epoch 12/100\n",
      "45000/45000 [==============================] - 10s 223us/step - loss: 1.5723 - acc: 0.4149 - val_loss: 1.4949 - val_acc: 0.4556\n",
      "Epoch 13/100\n",
      "45000/45000 [==============================] - 10s 218us/step - loss: 1.5702 - acc: 0.4137 - val_loss: 1.4997 - val_acc: 0.4542\n",
      "Epoch 14/100\n",
      "45000/45000 [==============================] - 10s 216us/step - loss: 1.5683 - acc: 0.4174 - val_loss: 1.5085 - val_acc: 0.4520\n",
      "Epoch 15/100\n",
      "45000/45000 [==============================] - 10s 218us/step - loss: 1.5588 - acc: 0.4183 - val_loss: 1.4873 - val_acc: 0.4586\n",
      "Epoch 16/100\n",
      "45000/45000 [==============================] - 10s 220us/step - loss: 1.5666 - acc: 0.4149 - val_loss: 1.5108 - val_acc: 0.4460\n",
      "Epoch 17/100\n",
      "45000/45000 [==============================] - 10s 222us/step - loss: 1.5578 - acc: 0.4186 - val_loss: 1.5111 - val_acc: 0.4456\n",
      "Epoch 18/100\n",
      "45000/45000 [==============================] - 10s 221us/step - loss: 1.5568 - acc: 0.4216 - val_loss: 1.4988 - val_acc: 0.4534\n",
      "Epoch 19/100\n",
      "45000/45000 [==============================] - 10s 218us/step - loss: 1.5474 - acc: 0.4242 - val_loss: 1.4877 - val_acc: 0.4576\n",
      "Epoch 20/100\n",
      "45000/45000 [==============================] - 10s 221us/step - loss: 1.5460 - acc: 0.4229 - val_loss: 1.4646 - val_acc: 0.4650\n",
      "Epoch 21/100\n",
      "45000/45000 [==============================] - 10s 221us/step - loss: 1.5429 - acc: 0.4255 - val_loss: 1.4786 - val_acc: 0.4538\n",
      "Epoch 22/100\n",
      "45000/45000 [==============================] - 10s 223us/step - loss: 1.5422 - acc: 0.4258 - val_loss: 1.4689 - val_acc: 0.4628\n",
      "Epoch 23/100\n",
      "45000/45000 [==============================] - 10s 220us/step - loss: 1.5403 - acc: 0.4267 - val_loss: 1.4740 - val_acc: 0.4616\n",
      "Epoch 24/100\n",
      "45000/45000 [==============================] - 10s 220us/step - loss: 1.5428 - acc: 0.4264 - val_loss: 1.4669 - val_acc: 0.4574\n",
      "Epoch 25/100\n",
      "45000/45000 [==============================] - 10s 217us/step - loss: 1.5387 - acc: 0.4274 - val_loss: 1.4539 - val_acc: 0.4692\n",
      "Epoch 26/100\n",
      "45000/45000 [==============================] - 10s 222us/step - loss: 1.5337 - acc: 0.4266 - val_loss: 1.4409 - val_acc: 0.4678\n",
      "Epoch 27/100\n",
      "45000/45000 [==============================] - 10s 222us/step - loss: 1.5264 - acc: 0.4313 - val_loss: 1.4431 - val_acc: 0.4770\n",
      "Epoch 28/100\n",
      "45000/45000 [==============================] - 10s 221us/step - loss: 1.5272 - acc: 0.4320 - val_loss: 1.4375 - val_acc: 0.4774\n",
      "Epoch 29/100\n",
      "45000/45000 [==============================] - 10s 221us/step - loss: 1.5286 - acc: 0.4329 - val_loss: 1.4561 - val_acc: 0.4658\n",
      "Epoch 30/100\n",
      "45000/45000 [==============================] - 10s 217us/step - loss: 1.5234 - acc: 0.4356 - val_loss: 1.4492 - val_acc: 0.4662\n",
      "Epoch 31/100\n",
      "45000/45000 [==============================] - 10s 217us/step - loss: 1.5257 - acc: 0.4339 - val_loss: 1.4656 - val_acc: 0.4740\n",
      "Epoch 32/100\n",
      "45000/45000 [==============================] - 10s 221us/step - loss: 1.5216 - acc: 0.4340 - val_loss: 1.4286 - val_acc: 0.4780\n",
      "Epoch 33/100\n",
      "45000/45000 [==============================] - 10s 219us/step - loss: 1.5226 - acc: 0.4338 - val_loss: 1.4219 - val_acc: 0.4798\n",
      "Epoch 34/100\n",
      "45000/45000 [==============================] - 10s 217us/step - loss: 1.5222 - acc: 0.4382 - val_loss: 1.4222 - val_acc: 0.4884\n",
      "Epoch 35/100\n",
      "45000/45000 [==============================] - 10s 225us/step - loss: 1.5129 - acc: 0.4386 - val_loss: 1.4303 - val_acc: 0.4780\n",
      "Epoch 36/100\n",
      "45000/45000 [==============================] - 10s 230us/step - loss: 1.5147 - acc: 0.4388 - val_loss: 1.4204 - val_acc: 0.4810\n",
      "Epoch 37/100\n",
      "45000/45000 [==============================] - 11s 235us/step - loss: 1.5127 - acc: 0.4418 - val_loss: 1.4098 - val_acc: 0.4838\n",
      "Epoch 38/100\n",
      "45000/45000 [==============================] - 10s 226us/step - loss: 1.5117 - acc: 0.4395 - val_loss: 1.4147 - val_acc: 0.4914\n",
      "Epoch 39/100\n",
      "45000/45000 [==============================] - 10s 224us/step - loss: 1.5078 - acc: 0.4400 - val_loss: 1.4255 - val_acc: 0.4810\n",
      "Epoch 40/100\n",
      "45000/45000 [==============================] - 10s 222us/step - loss: 1.5089 - acc: 0.4424 - val_loss: 1.4231 - val_acc: 0.4758\n",
      "Epoch 41/100\n",
      "45000/45000 [==============================] - 10s 217us/step - loss: 1.5002 - acc: 0.4465 - val_loss: 1.4228 - val_acc: 0.4828\n",
      "Epoch 42/100\n",
      "45000/45000 [==============================] - 10s 217us/step - loss: 1.4993 - acc: 0.4447 - val_loss: 1.4120 - val_acc: 0.4818\n",
      "Epoch 43/100\n",
      "45000/45000 [==============================] - 10s 218us/step - loss: 1.4973 - acc: 0.4450 - val_loss: 1.4101 - val_acc: 0.4878\n",
      "Epoch 44/100\n",
      "45000/45000 [==============================] - 10s 227us/step - loss: 1.5001 - acc: 0.4482 - val_loss: 1.4049 - val_acc: 0.4834\n",
      "Epoch 45/100\n",
      "45000/45000 [==============================] - 12s 276us/step - loss: 1.4947 - acc: 0.4474 - val_loss: 1.3992 - val_acc: 0.4854\n",
      "Epoch 46/100\n",
      "45000/45000 [==============================] - 13s 283us/step - loss: 1.4966 - acc: 0.4476 - val_loss: 1.3986 - val_acc: 0.4880\n",
      "Epoch 47/100\n",
      "45000/45000 [==============================] - 11s 255us/step - loss: 1.4979 - acc: 0.4484 - val_loss: 1.4113 - val_acc: 0.4810\n",
      "Epoch 48/100\n",
      "45000/45000 [==============================] - 11s 236us/step - loss: 1.4950 - acc: 0.4501 - val_loss: 1.4299 - val_acc: 0.4740\n",
      "Epoch 49/100\n",
      "45000/45000 [==============================] - 11s 237us/step - loss: 1.4887 - acc: 0.4497 - val_loss: 1.3891 - val_acc: 0.5004\n",
      "Epoch 50/100\n",
      "45000/45000 [==============================] - 11s 244us/step - loss: 1.4856 - acc: 0.4490 - val_loss: 1.3917 - val_acc: 0.4968\n",
      "Epoch 51/100\n",
      "45000/45000 [==============================] - 11s 239us/step - loss: 1.4911 - acc: 0.4524 - val_loss: 1.3756 - val_acc: 0.4992\n",
      "Epoch 52/100\n",
      "45000/45000 [==============================] - 11s 238us/step - loss: 1.4887 - acc: 0.4504 - val_loss: 1.3959 - val_acc: 0.4890\n",
      "Epoch 53/100\n",
      "45000/45000 [==============================] - 11s 239us/step - loss: 1.4850 - acc: 0.4513 - val_loss: 1.3771 - val_acc: 0.4992\n",
      "Epoch 54/100\n",
      "45000/45000 [==============================] - 11s 238us/step - loss: 1.4818 - acc: 0.4537 - val_loss: 1.3829 - val_acc: 0.4978\n",
      "Epoch 55/100\n",
      "45000/45000 [==============================] - 11s 238us/step - loss: 1.4790 - acc: 0.4563 - val_loss: 1.3888 - val_acc: 0.4952\n",
      "Epoch 56/100\n",
      "45000/45000 [==============================] - 11s 239us/step - loss: 1.4739 - acc: 0.4597 - val_loss: 1.4061 - val_acc: 0.4916\n",
      "Epoch 57/100\n",
      "45000/45000 [==============================] - 11s 239us/step - loss: 1.4793 - acc: 0.4526 - val_loss: 1.4037 - val_acc: 0.4954\n",
      "Epoch 58/100\n",
      "45000/45000 [==============================] - 11s 245us/step - loss: 1.4750 - acc: 0.4568 - val_loss: 1.3690 - val_acc: 0.5048\n",
      "Epoch 59/100\n",
      "45000/45000 [==============================] - 11s 245us/step - loss: 1.4787 - acc: 0.4598 - val_loss: 1.3828 - val_acc: 0.4946\n",
      "Epoch 60/100\n",
      "45000/45000 [==============================] - 11s 244us/step - loss: 1.4776 - acc: 0.4579 - val_loss: 1.3988 - val_acc: 0.4836\n",
      "Epoch 61/100\n",
      "45000/45000 [==============================] - 11s 244us/step - loss: 1.4718 - acc: 0.4578 - val_loss: 1.3759 - val_acc: 0.4988\n",
      "Epoch 62/100\n",
      "45000/45000 [==============================] - 11s 245us/step - loss: 1.4734 - acc: 0.4602 - val_loss: 1.3699 - val_acc: 0.5088\n",
      "Epoch 63/100\n",
      "45000/45000 [==============================] - 11s 240us/step - loss: 1.4700 - acc: 0.4599 - val_loss: 1.3745 - val_acc: 0.4908\n",
      "Epoch 64/100\n",
      "45000/45000 [==============================] - 10s 223us/step - loss: 1.4684 - acc: 0.4595 - val_loss: 1.3442 - val_acc: 0.5112\n",
      "Epoch 65/100\n",
      "45000/45000 [==============================] - 10s 211us/step - loss: 1.4653 - acc: 0.4586 - val_loss: 1.3858 - val_acc: 0.4990\n",
      "Epoch 66/100\n",
      "45000/45000 [==============================] - 10s 213us/step - loss: 1.4688 - acc: 0.4624 - val_loss: 1.3676 - val_acc: 0.5046\n",
      "Epoch 67/100\n",
      "45000/45000 [==============================] - 10s 228us/step - loss: 1.4590 - acc: 0.4627 - val_loss: 1.3674 - val_acc: 0.5026\n",
      "Epoch 68/100\n",
      "45000/45000 [==============================] - 10s 228us/step - loss: 1.4618 - acc: 0.4633 - val_loss: 1.3659 - val_acc: 0.5064\n",
      "Epoch 69/100\n",
      "45000/45000 [==============================] - 10s 230us/step - loss: 1.4650 - acc: 0.4628 - val_loss: 1.3696 - val_acc: 0.5016\n",
      "Epoch 70/100\n",
      "45000/45000 [==============================] - 10s 230us/step - loss: 1.4606 - acc: 0.4618 - val_loss: 1.3737 - val_acc: 0.5020\n",
      "Epoch 71/100\n",
      "45000/45000 [==============================] - 13s 293us/step - loss: 1.4643 - acc: 0.4608 - val_loss: 1.3722 - val_acc: 0.4936\n",
      "Epoch 72/100\n",
      "45000/45000 [==============================] - 12s 269us/step - loss: 1.4600 - acc: 0.4635 - val_loss: 1.3663 - val_acc: 0.5036\n",
      "Epoch 73/100\n",
      "45000/45000 [==============================] - 11s 241us/step - loss: 1.4568 - acc: 0.4662 - val_loss: 1.3735 - val_acc: 0.4984\n",
      "Epoch 74/100\n",
      "45000/45000 [==============================] - 11s 238us/step - loss: 1.4548 - acc: 0.4667 - val_loss: 1.3740 - val_acc: 0.4980\n",
      "Epoch 75/100\n",
      "45000/45000 [==============================] - 11s 241us/step - loss: 1.4516 - acc: 0.4668 - val_loss: 1.3549 - val_acc: 0.5102\n",
      "Epoch 76/100\n",
      "45000/45000 [==============================] - 11s 238us/step - loss: 1.4476 - acc: 0.4699 - val_loss: 1.3532 - val_acc: 0.5006\n",
      "Epoch 77/100\n",
      "45000/45000 [==============================] - 11s 238us/step - loss: 1.4501 - acc: 0.4668 - val_loss: 1.3678 - val_acc: 0.5084\n",
      "Epoch 78/100\n",
      "45000/45000 [==============================] - 11s 238us/step - loss: 1.4548 - acc: 0.4662 - val_loss: 1.3469 - val_acc: 0.5210\n",
      "Epoch 79/100\n",
      "45000/45000 [==============================] - 11s 242us/step - loss: 1.4450 - acc: 0.4696 - val_loss: 1.3564 - val_acc: 0.5086\n",
      "Epoch 80/100\n",
      "45000/45000 [==============================] - 11s 240us/step - loss: 1.4469 - acc: 0.4669 - val_loss: 1.3609 - val_acc: 0.5084\n",
      "Epoch 81/100\n",
      "45000/45000 [==============================] - 11s 238us/step - loss: 1.4432 - acc: 0.4705 - val_loss: 1.3309 - val_acc: 0.5170\n",
      "Epoch 82/100\n",
      "45000/45000 [==============================] - 11s 239us/step - loss: 1.4452 - acc: 0.4678 - val_loss: 1.3435 - val_acc: 0.5086\n",
      "Epoch 83/100\n",
      "45000/45000 [==============================] - 11s 238us/step - loss: 1.4489 - acc: 0.4673 - val_loss: 1.3513 - val_acc: 0.5076\n",
      "Epoch 84/100\n",
      "45000/45000 [==============================] - 11s 238us/step - loss: 1.4471 - acc: 0.4703 - val_loss: 1.3432 - val_acc: 0.5204\n",
      "Epoch 85/100\n",
      "45000/45000 [==============================] - 11s 238us/step - loss: 1.4403 - acc: 0.4749 - val_loss: 1.3552 - val_acc: 0.5014\n",
      "Epoch 86/100\n",
      "45000/45000 [==============================] - 11s 240us/step - loss: 1.4454 - acc: 0.4704 - val_loss: 1.3281 - val_acc: 0.5148\n",
      "Epoch 87/100\n",
      "45000/45000 [==============================] - 11s 242us/step - loss: 1.4422 - acc: 0.4734 - val_loss: 1.3212 - val_acc: 0.5264\n",
      "Epoch 88/100\n",
      "45000/45000 [==============================] - 11s 240us/step - loss: 1.4366 - acc: 0.4742 - val_loss: 1.3155 - val_acc: 0.5272\n",
      "Epoch 89/100\n",
      "45000/45000 [==============================] - 11s 238us/step - loss: 1.4422 - acc: 0.4759 - val_loss: 1.3311 - val_acc: 0.5156\n",
      "Epoch 90/100\n",
      "45000/45000 [==============================] - 11s 237us/step - loss: 1.4399 - acc: 0.4720 - val_loss: 1.3335 - val_acc: 0.5166\n",
      "Epoch 91/100\n",
      "45000/45000 [==============================] - 11s 241us/step - loss: 1.4330 - acc: 0.4754 - val_loss: 1.3288 - val_acc: 0.5308\n",
      "Epoch 92/100\n",
      "45000/45000 [==============================] - 11s 245us/step - loss: 1.4361 - acc: 0.4752 - val_loss: 1.3320 - val_acc: 0.5166\n",
      "Epoch 93/100\n",
      "45000/45000 [==============================] - 11s 238us/step - loss: 1.4368 - acc: 0.4728 - val_loss: 1.3316 - val_acc: 0.5266\n",
      "Epoch 94/100\n",
      "45000/45000 [==============================] - 11s 240us/step - loss: 1.4336 - acc: 0.4736 - val_loss: 1.3415 - val_acc: 0.5184\n",
      "Epoch 95/100\n",
      "45000/45000 [==============================] - 11s 240us/step - loss: 1.4291 - acc: 0.4754 - val_loss: 1.3124 - val_acc: 0.5312\n",
      "Epoch 96/100\n",
      "45000/45000 [==============================] - 11s 241us/step - loss: 1.4323 - acc: 0.4752 - val_loss: 1.3220 - val_acc: 0.5218\n",
      "Epoch 97/100\n",
      "45000/45000 [==============================] - 11s 239us/step - loss: 1.4330 - acc: 0.4766 - val_loss: 1.3137 - val_acc: 0.5266\n",
      "Epoch 98/100\n",
      "45000/45000 [==============================] - 11s 242us/step - loss: 1.4288 - acc: 0.4755 - val_loss: 1.3214 - val_acc: 0.5218\n",
      "Epoch 99/100\n",
      "45000/45000 [==============================] - 11s 239us/step - loss: 1.4295 - acc: 0.4785 - val_loss: 1.3232 - val_acc: 0.5204\n",
      "Epoch 100/100\n",
      "45000/45000 [==============================] - 11s 244us/step - loss: 1.4278 - acc: 0.4745 - val_loss: 1.3133 - val_acc: 0.5208\n"
     ]
    }
   ],
   "source": [
    "history = model.fit(x_train_train, y_train_train, validation_data=(x_val, y_val), epochs=epochs, batch_size=batch_size)"
   ]
  },
  {
   "cell_type": "code",
   "execution_count": 31,
   "metadata": {
    "colab": {
     "base_uri": "https://localhost:8080/",
     "height": 294
    },
    "colab_type": "code",
    "id": "87IB4bwBkHbn",
    "outputId": "fd17e376-6f24-46b3-b8ac-ae1f1f7bce2f"
   },
   "outputs": [
    {
     "data": {
      "image/png": "[encoded data removed]",
      "text/plain": [
       "<matplotlib.figure.Figure at 0x7fb86d4141d0>"
      ]
     },
     "metadata": {
      "tags": []
     },
     "output_type": "display_data"
    }
   ],
   "source": [
    "plt.plot(history.history['acc'])\n",
    "plt.plot(history.history['val_acc'])\n",
    "plt.title(\"Accuracy\")\n",
    "plt.xlabel('epoch')\n",
    "plt.ylabel('accuracy')\n",
    "plt.legend(['train','test'])\n",
    "plt.show()"
   ]
  },
  {
   "cell_type": "code",
   "execution_count": 32,
   "metadata": {
    "colab": {
     "base_uri": "https://localhost:8080/",
     "height": 34
    },
    "colab_type": "code",
    "id": "YbyO6SwPvRVi",
    "outputId": "a203c857-2bdb-4357-c33c-1cc8482891bc"
   },
   "outputs": [
    {
     "data": {
      "text/plain": [
       "(10000, 32, 32, 3)"
      ]
     },
     "execution_count": 32,
     "metadata": {
      "tags": []
     },
     "output_type": "execute_result"
    }
   ],
   "source": [
    "x_test.shape"
   ]
  },
  {
   "cell_type": "code",
   "execution_count": 0,
   "metadata": {
    "colab": {},
    "colab_type": "code",
    "id": "3zadDejjvWxk"
   },
   "outputs": [],
   "source": [
    "y_test = to_categorical(y_test, num_classes)"
   ]
  },
  {
   "cell_type": "code",
   "execution_count": 35,
   "metadata": {
    "colab": {
     "base_uri": "https://localhost:8080/",
     "height": 34
    },
    "colab_type": "code",
    "id": "T_KVrw6NvZ8W",
    "outputId": "047d578d-9862-4380-d56a-c1c40d9219fd"
   },
   "outputs": [
    {
     "data": {
      "text/plain": [
       "(10000, 10)"
      ]
     },
     "execution_count": 35,
     "metadata": {
      "tags": []
     },
     "output_type": "execute_result"
    }
   ],
   "source": [
    "y_test.shape"
   ]
  },
  {
   "cell_type": "code",
   "execution_count": 37,
   "metadata": {
    "colab": {
     "base_uri": "https://localhost:8080/",
     "height": 34
    },
    "colab_type": "code",
    "id": "N9xmrDnjvtwe",
    "outputId": "f419dc79-c4af-49e5-d9f5-a37150f4acba"
   },
   "outputs": [
    {
     "data": {
      "text/plain": [
       "(10000, 32, 32, 3)"
      ]
     },
     "execution_count": 37,
     "metadata": {
      "tags": []
     },
     "output_type": "execute_result"
    }
   ],
   "source": [
    "x_test = x_test/255\n",
    "x_test.shape"
   ]
  },
  {
   "cell_type": "code",
   "execution_count": 0,
   "metadata": {
    "colab": {},
    "colab_type": "code",
    "id": "ybbJ8eJ3vwsS"
   },
   "outputs": [],
   "source": [
    "predictions = model.predict(x_test)"
   ]
  },
  {
   "cell_type": "code",
   "execution_count": 0,
   "metadata": {
    "colab": {},
    "colab_type": "code",
    "id": "DBkRmIOKv2Qm"
   },
   "outputs": [],
   "source": [
    "ans = np.argmax(predictions, axis=1)"
   ]
  },
  {
   "cell_type": "code",
   "execution_count": 0,
   "metadata": {
    "colab": {},
    "colab_type": "code",
    "id": "WS7edKRov4VC"
   },
   "outputs": [],
   "source": [
    "y_test = np.argmax(y_test,axis=1)"
   ]
  },
  {
   "cell_type": "code",
   "execution_count": 41,
   "metadata": {
    "colab": {
     "base_uri": "https://localhost:8080/",
     "height": 34
    },
    "colab_type": "code",
    "id": "2p2y1g6Av5sE",
    "outputId": "8a00ed3d-4a58-4ad0-ea04-19d4de4b1003"
   },
   "outputs": [
    {
     "name": "stdout",
     "output_type": "stream",
     "text": [
      "test accuracy: 0.5251\n"
     ]
    }
   ],
   "source": [
    "print(\"test accuracy:\", accuracy_score(y_test,ans))"
   ]
  },
  {
   "cell_type": "code",
   "execution_count": 42,
   "metadata": {
    "colab": {
     "base_uri": "https://localhost:8080/",
     "height": 187
    },
    "colab_type": "code",
    "id": "URRP0yDAv7eO",
    "outputId": "e6b017fd-4fb6-47da-9bea-6177f70d6f8a"
   },
   "outputs": [
    {
     "data": {
      "text/plain": [
       "array([[471,  86,  31,  46,   7,   4,  26,  18, 220,  91],\n",
       "       [ 11, 824,   0,  10,   0,   2,  19,   4,  17, 113],\n",
       "       [ 76,  19, 240, 131,  83,  72, 263,  37,  51,  28],\n",
       "       [ 15,  19,  27, 392,  15, 118, 320,  28,  26,  40],\n",
       "       [ 28,  22,  71, 105, 197,  39, 383, 114,  18,  23],\n",
       "       [  9,   7,  34, 284,  26, 334, 228,  47,  13,  18],\n",
       "       [  2,  13,  30,  71,  22,  11, 805,   6,  10,  30],\n",
       "       [  9,  17,   4, 127,  19,  55, 116, 565,   7,  81],\n",
       "       [ 89, 117,  10,  39,   1,   3,  10,   6, 679,  46],\n",
       "       [ 11, 168,   1,  17,   0,   0,  28,   8,  23, 744]])"
      ]
     },
     "execution_count": 42,
     "metadata": {
      "tags": []
     },
     "output_type": "execute_result"
    }
   ],
   "source": [
    "confusion_matrix(y_test, ans)"
   ]
  },
  {
   "cell_type": "code",
   "execution_count": 0,
   "metadata": {
    "colab": {},
    "colab_type": "code",
    "id": "ffvdVLXhwHiz"
   },
   "outputs": [],
   "source": []
  }
 ],
 "metadata": {
  "accelerator": "GPU",
  "colab": {
   "name": "cifar10-tf-keras.ipynb",
   "provenance": [],
   "version": "0.3.2"
  },
  "kernelspec": {
   "display_name": "Python 3",
   "language": "python",
   "name": "python3"
  },
  "language_info": {
   "codemirror_mode": {
    "name": "ipython",
    "version": 3
   },
   "file_extension": ".py",
   "mimetype": "text/x-python",
   "name": "python",
   "nbconvert_exporter": "python",
   "pygments_lexer": "ipython3",
   "version": "3.6.5"
  }
 },
 "nbformat": 4,
 "nbformat_minor": 1
}
