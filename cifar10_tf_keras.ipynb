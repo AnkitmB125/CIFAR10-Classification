{
  "nbformat": 4,
  "nbformat_minor": 0,
  "metadata": {
    "colab": {
      "name": "cifar10-tf-keras.ipynb",
      "version": "0.3.2",
      "provenance": [],
      "collapsed_sections": []
    },
    "kernelspec": {
      "name": "python3",
      "display_name": "Python 3"
    },
    "accelerator": "GPU"
  },
  "cells": [
    {
      "metadata": {
        "id": "HP4Bi2Uwh3T-",
        "colab_type": "code",
        "colab": {}
      },
      "cell_type": "code",
      "source": [
        "import numpy as np\n",
        "import pandas as pd\n",
        "import matplotlib.pyplot as plt\n",
        "%matplotlib inline\n",
        "from sklearn.model_selection import train_test_split\n",
        "from sklearn.metrics import accuracy_score, confusion_matrix\n",
        "import tensorflow as tf\n",
        "from tensorflow.keras.layers import Conv2D, Flatten, MaxPooling2D, Dense, Dropout, Activation, BatchNormalization\n",
        "from tensorflow.keras.models import Sequential\n",
        "from tensorflow.keras.utils import to_categorical\n",
        "from keras.preprocessing.image import ImageDataGenerator\n",
        "import keras"
      ],
      "execution_count": 0,
      "outputs": []
    },
    {
      "metadata": {
        "id": "I92YbnmBh3UN",
        "colab_type": "code",
        "colab": {}
      },
      "cell_type": "code",
      "source": [
        "import os"
      ],
      "execution_count": 0,
      "outputs": []
    },
    {
      "metadata": {
        "id": "bmChTCwLh3UR",
        "colab_type": "code",
        "colab": {}
      },
      "cell_type": "code",
      "source": [
        "from tensorflow.keras.datasets import cifar10"
      ],
      "execution_count": 0,
      "outputs": []
    },
    {
      "metadata": {
        "id": "MAbw85q6h3UV",
        "colab_type": "code",
        "outputId": "e5f5319b-2e5f-41ac-96a3-8fbb71128ae5",
        "colab": {
          "base_uri": "https://localhost:8080/",
          "height": 51
        }
      },
      "cell_type": "code",
      "source": [
        "(x_train, y_train), (x_test, y_test) = cifar10.load_data()"
      ],
      "execution_count": 0,
      "outputs": [
        {
          "output_type": "stream",
          "text": [
            "Downloading data from https://www.cs.toronto.edu/~kriz/cifar-10-python.tar.gz\n",
            "170500096/170498071 [==============================] - 8s 0us/step\n"
          ],
          "name": "stdout"
        }
      ]
    },
    {
      "metadata": {
        "id": "U3W4NKSUh3Uf",
        "colab_type": "code",
        "colab": {}
      },
      "cell_type": "code",
      "source": [
        "y_train = to_categorical(num_classes=10,y=y_train)"
      ],
      "execution_count": 0,
      "outputs": []
    },
    {
      "metadata": {
        "id": "fhxpDexTh3Uk",
        "colab_type": "code",
        "outputId": "75fbf86b-5b9c-4f46-8f2e-dc1c61e490e5",
        "colab": {
          "base_uri": "https://localhost:8080/",
          "height": 34
        }
      },
      "cell_type": "code",
      "source": [
        "x_train.shape"
      ],
      "execution_count": 0,
      "outputs": [
        {
          "output_type": "execute_result",
          "data": {
            "text/plain": [
              "(50000, 32, 32, 3)"
            ]
          },
          "metadata": {
            "tags": []
          },
          "execution_count": 10
        }
      ]
    },
    {
      "metadata": {
        "id": "oENc0hn0x8al",
        "colab_type": "code",
        "outputId": "8cb80867-e8c2-4867-b599-f8883190e4a8",
        "colab": {
          "base_uri": "https://localhost:8080/",
          "height": 34
        }
      },
      "cell_type": "code",
      "source": [
        "x_test = x_test/255\n",
        "x_test.shape"
      ],
      "execution_count": 0,
      "outputs": [
        {
          "output_type": "execute_result",
          "data": {
            "text/plain": [
              "(10000, 32, 32, 3)"
            ]
          },
          "metadata": {
            "tags": []
          },
          "execution_count": 11
        }
      ]
    },
    {
      "metadata": {
        "id": "xIwwYc8ax_FL",
        "colab_type": "code",
        "colab": {}
      },
      "cell_type": "code",
      "source": [
        "y_test = to_categorical(num_classes=10,y=y_test)"
      ],
      "execution_count": 0,
      "outputs": []
    },
    {
      "metadata": {
        "id": "YOLGNo-gh3Up",
        "colab_type": "code",
        "outputId": "7bd9e362-1d05-4e64-a18f-c15422138cfb",
        "colab": {
          "base_uri": "https://localhost:8080/",
          "height": 283
        }
      },
      "cell_type": "code",
      "source": [
        "plt.imshow(x_train[4])"
      ],
      "execution_count": 0,
      "outputs": [
        {
          "output_type": "execute_result",
          "data": {
            "text/plain": [
              "<matplotlib.image.AxesImage at 0x7fad9ad2d048>"
            ]
          },
          "metadata": {
            "tags": []
          },
          "execution_count": 13
        },
        {
          "output_type": "display_data",
          "data": {
            "image/png": "[encoded data removed]",
            "text/plain": [
              "<matplotlib.figure.Figure at 0x7fad9b82c940>"
            ]
          },
          "metadata": {
            "tags": []
          }
        }
      ]
    },
    {
      "metadata": {
        "id": "7ykrvr9kh3Uv",
        "colab_type": "code",
        "colab": {}
      },
      "cell_type": "code",
      "source": [
        "batch_size = 128\n",
        "num_classes = 10\n",
        "epochs = 100\n",
        "weight_decay = 1e-4"
      ],
      "execution_count": 0,
      "outputs": []
    },
    {
      "metadata": {
        "id": "7Tttsqj8h3U0",
        "colab_type": "code",
        "colab": {}
      },
      "cell_type": "code",
      "source": [
        ""
      ],
      "execution_count": 0,
      "outputs": []
    },
    {
      "metadata": {
        "id": "al4hSTfLh3U4",
        "colab_type": "code",
        "colab": {}
      },
      "cell_type": "code",
      "source": [
        "x_train = x_train/255.0"
      ],
      "execution_count": 0,
      "outputs": []
    },
    {
      "metadata": {
        "id": "I2bGPZjth3U8",
        "colab_type": "code",
        "outputId": "07a96af1-a454-417f-96d5-236ff29c7764",
        "colab": {
          "base_uri": "https://localhost:8080/",
          "height": 34
        }
      },
      "cell_type": "code",
      "source": [
        "x_train.shape"
      ],
      "execution_count": 0,
      "outputs": [
        {
          "output_type": "execute_result",
          "data": {
            "text/plain": [
              "(50000, 32, 32, 3)"
            ]
          },
          "metadata": {
            "tags": []
          },
          "execution_count": 16
        }
      ]
    },
    {
      "metadata": {
        "id": "PqKMbKor1BFr",
        "colab_type": "code",
        "colab": {}
      },
      "cell_type": "code",
      "source": [
        "from keras import regularizers"
      ],
      "execution_count": 0,
      "outputs": []
    },
    {
      "metadata": {
        "id": "dU2fxAWyh3VB",
        "colab_type": "code",
        "colab": {}
      },
      "cell_type": "code",
      "source": [
        "model = Sequential()"
      ],
      "execution_count": 0,
      "outputs": []
    },
    {
      "metadata": {
        "id": "tJcy8lgrh3VJ",
        "colab_type": "code",
        "colab": {}
      },
      "cell_type": "code",
      "source": [
        "model.add(Conv2D(32, (3, 3), input_shape=x_train.shape[1:],kernel_regularizer=regularizers.l2(weight_decay), activation='relu', padding='same'))\n",
        "model.add(BatchNormalization())\n",
        "model.add(Conv2D(32, (3,3), activation='relu',kernel_regularizer=regularizers.l2(weight_decay),padding='same'))\n",
        "model.add(BatchNormalization())\n",
        "model.add(MaxPooling2D(pool_size=(2,2)))\n",
        "model.add(Dropout(0.2))\n",
        "\n",
        "model.add(Conv2D(64, (3, 3), kernel_regularizer=regularizers.l2(weight_decay), activation='relu', padding='same'))\n",
        "model.add(BatchNormalization())\n",
        "model.add(Conv2D(64, (3,3), activation='relu',kernel_regularizer=regularizers.l2(weight_decay),padding='same'))\n",
        "model.add(BatchNormalization())\n",
        "model.add(MaxPooling2D(pool_size=(2,2)))\n",
        "model.add(Dropout(0.3))\n",
        "\n",
        "model.add(Conv2D(128, (3, 3), kernel_regularizer=regularizers.l2(weight_decay), activation='relu', padding='same'))\n",
        "model.add(BatchNormalization())\n",
        "model.add(Conv2D(128, (3,3), activation='relu',kernel_regularizer=regularizers.l2(weight_decay),padding='same'))\n",
        "model.add(BatchNormalization())\n",
        "model.add(MaxPooling2D(pool_size=(2,2)))\n",
        "model.add(Dropout(0.4))\n",
        "\n",
        "model.add(Flatten())\n",
        "model.add(Dense(256, activation='relu'))\n",
        "model.add(Dropout(0.5))\n",
        "model.add(Dense(num_classes, activation='softmax'))"
      ],
      "execution_count": 0,
      "outputs": []
    },
    {
      "metadata": {
        "id": "zUEHGCofh3VQ",
        "colab_type": "code",
        "outputId": "6622757a-35f3-4ccc-907b-45117395ca0e",
        "colab": {
          "base_uri": "https://localhost:8080/",
          "height": 884
        }
      },
      "cell_type": "code",
      "source": [
        "model.summary()"
      ],
      "execution_count": 0,
      "outputs": [
        {
          "output_type": "stream",
          "text": [
            "_________________________________________________________________\n",
            "Layer (type)                 Output Shape              Param #   \n",
            "=================================================================\n",
            "conv2d_6 (Conv2D)            (None, 32, 32, 32)        896       \n",
            "_________________________________________________________________\n",
            "batch_normalization_6 (Batch (None, 32, 32, 32)        128       \n",
            "_________________________________________________________________\n",
            "conv2d_7 (Conv2D)            (None, 32, 32, 32)        9248      \n",
            "_________________________________________________________________\n",
            "batch_normalization_7 (Batch (None, 32, 32, 32)        128       \n",
            "_________________________________________________________________\n",
            "max_pooling2d_3 (MaxPooling2 (None, 16, 16, 32)        0         \n",
            "_________________________________________________________________\n",
            "dropout_4 (Dropout)          (None, 16, 16, 32)        0         \n",
            "_________________________________________________________________\n",
            "conv2d_8 (Conv2D)            (None, 16, 16, 64)        18496     \n",
            "_________________________________________________________________\n",
            "batch_normalization_8 (Batch (None, 16, 16, 64)        256       \n",
            "_________________________________________________________________\n",
            "conv2d_9 (Conv2D)            (None, 16, 16, 64)        36928     \n",
            "_________________________________________________________________\n",
            "batch_normalization_9 (Batch (None, 16, 16, 64)        256       \n",
            "_________________________________________________________________\n",
            "max_pooling2d_4 (MaxPooling2 (None, 8, 8, 64)          0         \n",
            "_________________________________________________________________\n",
            "dropout_5 (Dropout)          (None, 8, 8, 64)          0         \n",
            "_________________________________________________________________\n",
            "conv2d_10 (Conv2D)           (None, 8, 8, 128)         73856     \n",
            "_________________________________________________________________\n",
            "batch_normalization_10 (Batc (None, 8, 8, 128)         512       \n",
            "_________________________________________________________________\n",
            "conv2d_11 (Conv2D)           (None, 8, 8, 128)         147584    \n",
            "_________________________________________________________________\n",
            "batch_normalization_11 (Batc (None, 8, 8, 128)         512       \n",
            "_________________________________________________________________\n",
            "max_pooling2d_5 (MaxPooling2 (None, 4, 4, 128)         0         \n",
            "_________________________________________________________________\n",
            "dropout_6 (Dropout)          (None, 4, 4, 128)         0         \n",
            "_________________________________________________________________\n",
            "flatten_1 (Flatten)          (None, 2048)              0         \n",
            "_________________________________________________________________\n",
            "dense_2 (Dense)              (None, 256)               524544    \n",
            "_________________________________________________________________\n",
            "dropout_7 (Dropout)          (None, 256)               0         \n",
            "_________________________________________________________________\n",
            "dense_3 (Dense)              (None, 10)                2570      \n",
            "=================================================================\n",
            "Total params: 815,914\n",
            "Trainable params: 815,018\n",
            "Non-trainable params: 896\n",
            "_________________________________________________________________\n"
          ],
          "name": "stdout"
        }
      ]
    },
    {
      "metadata": {
        "id": "xh8ia-kF4VlS",
        "colab_type": "code",
        "colab": {}
      },
      "cell_type": "code",
      "source": [
        ""
      ],
      "execution_count": 0,
      "outputs": []
    },
    {
      "metadata": {
        "id": "50YTr4Xkh3Vb",
        "colab_type": "code",
        "outputId": "9b7b2a05-30c1-48ba-b845-4b591abbc20b",
        "colab": {
          "base_uri": "https://localhost:8080/",
          "height": 544
        }
      },
      "cell_type": "code",
      "source": [
        "from tensorflow.python.client import device_lib\n",
        "print(device_lib.list_local_devices())"
      ],
      "execution_count": 0,
      "outputs": [
        {
          "output_type": "stream",
          "text": [
            "[name: \"/device:CPU:0\"\n",
            "device_type: \"CPU\"\n",
            "memory_limit: 268435456\n",
            "locality {\n",
            "}\n",
            "incarnation: 3665601829367260640\n",
            ", name: \"/device:XLA_CPU:0\"\n",
            "device_type: \"XLA_CPU\"\n",
            "memory_limit: 17179869184\n",
            "locality {\n",
            "}\n",
            "incarnation: 18347974383007416474\n",
            "physical_device_desc: \"device: XLA_CPU device\"\n",
            ", name: \"/device:XLA_GPU:0\"\n",
            "device_type: \"XLA_GPU\"\n",
            "memory_limit: 17179869184\n",
            "locality {\n",
            "}\n",
            "incarnation: 7306425464514640109\n",
            "physical_device_desc: \"device: XLA_GPU device\"\n",
            ", name: \"/device:GPU:0\"\n",
            "device_type: \"GPU\"\n",
            "memory_limit: 11281553818\n",
            "locality {\n",
            "  bus_id: 1\n",
            "  links {\n",
            "  }\n",
            "}\n",
            "incarnation: 4191613981135313651\n",
            "physical_device_desc: \"device: 0, name: Tesla K80, pci bus id: 0000:00:04.0, compute capability: 3.7\"\n",
            "]\n"
          ],
          "name": "stdout"
        }
      ]
    },
    {
      "metadata": {
        "id": "pj7CYWh1h3Vk",
        "colab_type": "code",
        "outputId": "5beb139d-2585-4432-fc8b-b77d2c7f12f9",
        "colab": {
          "base_uri": "https://localhost:8080/",
          "height": 34
        }
      },
      "cell_type": "code",
      "source": [
        "from keras import backend as K\n",
        "K.tensorflow_backend._get_available_gpus()"
      ],
      "execution_count": 0,
      "outputs": [
        {
          "output_type": "execute_result",
          "data": {
            "text/plain": [
              "['/job:localhost/replica:0/task:0/device:GPU:0']"
            ]
          },
          "metadata": {
            "tags": []
          },
          "execution_count": 22
        }
      ]
    },
    {
      "metadata": {
        "id": "-a0-Om8kh3Vs",
        "colab_type": "code",
        "outputId": "1ad399a6-58f0-4328-fd7f-79781f38819b",
        "colab": {
          "base_uri": "https://localhost:8080/",
          "height": 34
        }
      },
      "cell_type": "code",
      "source": [
        "tf.test.is_gpu_available"
      ],
      "execution_count": 0,
      "outputs": [
        {
          "output_type": "execute_result",
          "data": {
            "text/plain": [
              "<function tensorflow.python.framework.test_util.is_gpu_available>"
            ]
          },
          "metadata": {
            "tags": []
          },
          "execution_count": 23
        }
      ]
    },
    {
      "metadata": {
        "id": "flBGmeYlh3V2",
        "colab_type": "code",
        "outputId": "e3026f00-ffd2-44fb-9104-2ac334416b2a",
        "colab": {
          "base_uri": "https://localhost:8080/",
          "height": 34
        }
      },
      "cell_type": "code",
      "source": [
        "tf.test.gpu_device_name"
      ],
      "execution_count": 0,
      "outputs": [
        {
          "output_type": "execute_result",
          "data": {
            "text/plain": [
              "<function tensorflow.python.framework.test_util.gpu_device_name>"
            ]
          },
          "metadata": {
            "tags": []
          },
          "execution_count": 24
        }
      ]
    },
    {
      "metadata": {
        "id": "if9PEVk4og9z",
        "colab_type": "code",
        "colab": {}
      },
      "cell_type": "code",
      "source": [
        "myadam = tf.keras.optimizers.Adam(lr=0.001, beta_1=0.9, beta_2=0.999, epsilon=None, decay=0.0, amsgrad=False)"
      ],
      "execution_count": 0,
      "outputs": []
    },
    {
      "metadata": {
        "id": "KOyKXMU2ow98",
        "colab_type": "code",
        "outputId": "597e2004-9c2c-4dcb-df5d-7ea655eb965b",
        "colab": {
          "base_uri": "https://localhost:8080/",
          "height": 34
        }
      },
      "cell_type": "code",
      "source": [
        "myadam"
      ],
      "execution_count": 0,
      "outputs": [
        {
          "output_type": "execute_result",
          "data": {
            "text/plain": [
              "<tensorflow.python.keras.optimizers.Adam at 0x7fad9acfa048>"
            ]
          },
          "metadata": {
            "tags": []
          },
          "execution_count": 26
        }
      ]
    },
    {
      "metadata": {
        "id": "llUQrvkeh3WD",
        "colab_type": "code",
        "colab": {}
      },
      "cell_type": "code",
      "source": [
        "model.compile(loss='categorical_crossentropy', optimizer='adam', metrics=['accuracy'])"
      ],
      "execution_count": 0,
      "outputs": []
    },
    {
      "metadata": {
        "id": "h2wxtRnYj8UI",
        "colab_type": "code",
        "outputId": "a79ee185-ec3d-499a-b19a-fb31acef1cf4",
        "colab": {
          "base_uri": "https://localhost:8080/",
          "height": 3434
        }
      },
      "cell_type": "code",
      "source": [
        "history = model.fit(x_train, y_train, validation_data=(x_test, y_test), epochs=epochs, batch_size=batch_size)"
      ],
      "execution_count": 0,
      "outputs": [
        {
          "output_type": "stream",
          "text": [
            "Train on 50000 samples, validate on 10000 samples\n",
            "Epoch 1/100\n",
            "50000/50000 [==============================] - 29s 583us/step - loss: 1.7877 - acc: 0.3800 - val_loss: 2.1308 - val_acc: 0.2948\n",
            "Epoch 2/100\n",
            "50000/50000 [==============================] - 23s 460us/step - loss: 1.3295 - acc: 0.5390 - val_loss: 1.0688 - val_acc: 0.6403\n",
            "Epoch 3/100\n",
            "50000/50000 [==============================] - 23s 460us/step - loss: 1.1193 - acc: 0.6233 - val_loss: 0.9168 - val_acc: 0.6883\n",
            "Epoch 4/100\n",
            "50000/50000 [==============================] - 23s 459us/step - loss: 0.9937 - acc: 0.6712 - val_loss: 0.9214 - val_acc: 0.6987\n",
            "Epoch 5/100\n",
            "50000/50000 [==============================] - 23s 459us/step - loss: 0.9080 - acc: 0.7040 - val_loss: 0.8776 - val_acc: 0.7151\n",
            "Epoch 6/100\n",
            "50000/50000 [==============================] - 23s 457us/step - loss: 0.8353 - acc: 0.7320 - val_loss: 0.7979 - val_acc: 0.7461\n",
            "Epoch 7/100\n",
            "50000/50000 [==============================] - 22s 439us/step - loss: 0.7909 - acc: 0.7485 - val_loss: 0.6990 - val_acc: 0.7836\n",
            "Epoch 8/100\n",
            "50000/50000 [==============================] - 22s 442us/step - loss: 0.7467 - acc: 0.7669 - val_loss: 0.7319 - val_acc: 0.7773\n",
            "Epoch 9/100\n",
            "50000/50000 [==============================] - 22s 441us/step - loss: 0.7147 - acc: 0.7759 - val_loss: 0.7254 - val_acc: 0.7801\n",
            "Epoch 10/100\n",
            "50000/50000 [==============================] - 22s 441us/step - loss: 0.6890 - acc: 0.7913 - val_loss: 0.6793 - val_acc: 0.7978\n",
            "Epoch 11/100\n",
            "50000/50000 [==============================] - 22s 443us/step - loss: 0.6663 - acc: 0.7988 - val_loss: 0.6356 - val_acc: 0.8173\n",
            "Epoch 12/100\n",
            "50000/50000 [==============================] - 22s 443us/step - loss: 0.6423 - acc: 0.8097 - val_loss: 0.6631 - val_acc: 0.8072\n",
            "Epoch 13/100\n",
            "50000/50000 [==============================] - 22s 443us/step - loss: 0.6210 - acc: 0.8174 - val_loss: 0.6668 - val_acc: 0.8125\n",
            "Epoch 14/100\n",
            "50000/50000 [==============================] - 22s 444us/step - loss: 0.6095 - acc: 0.8240 - val_loss: 0.7049 - val_acc: 0.7914\n",
            "Epoch 15/100\n",
            "50000/50000 [==============================] - 22s 444us/step - loss: 0.5987 - acc: 0.8295 - val_loss: 0.6368 - val_acc: 0.8243\n",
            "Epoch 16/100\n",
            "50000/50000 [==============================] - 22s 445us/step - loss: 0.5836 - acc: 0.8369 - val_loss: 0.6230 - val_acc: 0.8251\n",
            "Epoch 17/100\n",
            "50000/50000 [==============================] - 22s 445us/step - loss: 0.5693 - acc: 0.8416 - val_loss: 0.6368 - val_acc: 0.8278\n",
            "Epoch 18/100\n",
            "50000/50000 [==============================] - 22s 444us/step - loss: 0.5611 - acc: 0.8457 - val_loss: 0.7525 - val_acc: 0.8055\n",
            "Epoch 19/100\n",
            "50000/50000 [==============================] - 22s 443us/step - loss: 0.5539 - acc: 0.8486 - val_loss: 0.6753 - val_acc: 0.8229\n",
            "Epoch 20/100\n",
            "50000/50000 [==============================] - 22s 443us/step - loss: 0.5435 - acc: 0.8543 - val_loss: 0.7120 - val_acc: 0.8097\n",
            "Epoch 21/100\n",
            "50000/50000 [==============================] - 22s 440us/step - loss: 0.5380 - acc: 0.8577 - val_loss: 0.6296 - val_acc: 0.8328\n",
            "Epoch 22/100\n",
            "50000/50000 [==============================] - 22s 445us/step - loss: 0.5248 - acc: 0.8645 - val_loss: 0.8200 - val_acc: 0.8027\n",
            "Epoch 23/100\n",
            "50000/50000 [==============================] - 22s 442us/step - loss: 0.5179 - acc: 0.8665 - val_loss: 0.6261 - val_acc: 0.8401\n",
            "Epoch 24/100\n",
            "50000/50000 [==============================] - 22s 442us/step - loss: 0.5168 - acc: 0.8679 - val_loss: 0.6151 - val_acc: 0.8438\n",
            "Epoch 25/100\n",
            "50000/50000 [==============================] - 22s 443us/step - loss: 0.5092 - acc: 0.8722 - val_loss: 0.6285 - val_acc: 0.8411\n",
            "Epoch 26/100\n",
            "50000/50000 [==============================] - 22s 442us/step - loss: 0.5114 - acc: 0.8713 - val_loss: 0.6328 - val_acc: 0.8439\n",
            "Epoch 27/100\n",
            "50000/50000 [==============================] - 22s 443us/step - loss: 0.5037 - acc: 0.8749 - val_loss: 0.6254 - val_acc: 0.8483\n",
            "Epoch 28/100\n",
            "50000/50000 [==============================] - 22s 442us/step - loss: 0.4962 - acc: 0.8795 - val_loss: 0.6331 - val_acc: 0.8480\n",
            "Epoch 29/100\n",
            "50000/50000 [==============================] - 22s 443us/step - loss: 0.4931 - acc: 0.8812 - val_loss: 0.6307 - val_acc: 0.8460\n",
            "Epoch 30/100\n",
            "50000/50000 [==============================] - 22s 446us/step - loss: 0.4944 - acc: 0.8816 - val_loss: 0.6490 - val_acc: 0.8391\n",
            "Epoch 31/100\n",
            "50000/50000 [==============================] - 22s 446us/step - loss: 0.4819 - acc: 0.8852 - val_loss: 0.6201 - val_acc: 0.8495\n",
            "Epoch 32/100\n",
            "50000/50000 [==============================] - 22s 445us/step - loss: 0.4779 - acc: 0.8890 - val_loss: 0.6364 - val_acc: 0.8486\n",
            "Epoch 33/100\n",
            "50000/50000 [==============================] - 22s 448us/step - loss: 0.4754 - acc: 0.8873 - val_loss: 0.7413 - val_acc: 0.8236\n",
            "Epoch 34/100\n",
            "50000/50000 [==============================] - 22s 448us/step - loss: 0.4799 - acc: 0.8874 - val_loss: 0.6230 - val_acc: 0.8532\n",
            "Epoch 35/100\n",
            "50000/50000 [==============================] - 22s 446us/step - loss: 0.4698 - acc: 0.8917 - val_loss: 0.6166 - val_acc: 0.8562\n",
            "Epoch 36/100\n",
            "50000/50000 [==============================] - 22s 447us/step - loss: 0.4669 - acc: 0.8934 - val_loss: 0.6428 - val_acc: 0.8527\n",
            "Epoch 37/100\n",
            "50000/50000 [==============================] - 22s 446us/step - loss: 0.4670 - acc: 0.8947 - val_loss: 0.6326 - val_acc: 0.8513\n",
            "Epoch 38/100\n",
            "50000/50000 [==============================] - 22s 447us/step - loss: 0.4670 - acc: 0.8950 - val_loss: 0.6594 - val_acc: 0.8443\n",
            "Epoch 39/100\n",
            "50000/50000 [==============================] - 22s 446us/step - loss: 0.4527 - acc: 0.8984 - val_loss: 0.6537 - val_acc: 0.8502\n",
            "Epoch 40/100\n",
            "50000/50000 [==============================] - 22s 446us/step - loss: 0.4523 - acc: 0.8997 - val_loss: 0.6138 - val_acc: 0.8572\n",
            "Epoch 41/100\n",
            "50000/50000 [==============================] - 22s 448us/step - loss: 0.4560 - acc: 0.8997 - val_loss: 0.6109 - val_acc: 0.8602\n",
            "Epoch 42/100\n",
            "50000/50000 [==============================] - 22s 445us/step - loss: 0.4444 - acc: 0.9023 - val_loss: 0.6371 - val_acc: 0.8544\n",
            "Epoch 43/100\n",
            "50000/50000 [==============================] - 22s 447us/step - loss: 0.4492 - acc: 0.9025 - val_loss: 0.6210 - val_acc: 0.8643\n",
            "Epoch 44/100\n",
            "50000/50000 [==============================] - 22s 446us/step - loss: 0.4409 - acc: 0.9044 - val_loss: 0.6764 - val_acc: 0.8472\n",
            "Epoch 45/100\n",
            "50000/50000 [==============================] - 22s 447us/step - loss: 0.4411 - acc: 0.9034 - val_loss: 0.6500 - val_acc: 0.8517\n",
            "Epoch 46/100\n",
            "50000/50000 [==============================] - 22s 447us/step - loss: 0.4432 - acc: 0.9042 - val_loss: 0.6696 - val_acc: 0.8524\n",
            "Epoch 47/100\n",
            "50000/50000 [==============================] - 22s 446us/step - loss: 0.4383 - acc: 0.9066 - val_loss: 0.6341 - val_acc: 0.8644\n",
            "Epoch 48/100\n",
            "50000/50000 [==============================] - 22s 445us/step - loss: 0.4374 - acc: 0.9068 - val_loss: 0.6077 - val_acc: 0.8674\n",
            "Epoch 49/100\n",
            "50000/50000 [==============================] - 22s 446us/step - loss: 0.4320 - acc: 0.9092 - val_loss: 0.6223 - val_acc: 0.8585\n",
            "Epoch 50/100\n",
            "50000/50000 [==============================] - 22s 446us/step - loss: 0.4300 - acc: 0.9086 - val_loss: 0.6472 - val_acc: 0.8540\n",
            "Epoch 51/100\n",
            "50000/50000 [==============================] - 22s 444us/step - loss: 0.4295 - acc: 0.9093 - val_loss: 0.6609 - val_acc: 0.8542\n",
            "Epoch 52/100\n",
            "50000/50000 [==============================] - 22s 446us/step - loss: 0.4315 - acc: 0.9102 - val_loss: 0.6338 - val_acc: 0.8618\n",
            "Epoch 53/100\n",
            "50000/50000 [==============================] - 22s 444us/step - loss: 0.4246 - acc: 0.9126 - val_loss: 0.6685 - val_acc: 0.8541\n",
            "Epoch 54/100\n",
            "50000/50000 [==============================] - 22s 447us/step - loss: 0.4239 - acc: 0.9131 - val_loss: 0.6225 - val_acc: 0.8632\n",
            "Epoch 55/100\n",
            "50000/50000 [==============================] - 22s 446us/step - loss: 0.4209 - acc: 0.9142 - val_loss: 0.6357 - val_acc: 0.8624\n",
            "Epoch 56/100\n",
            "50000/50000 [==============================] - 22s 445us/step - loss: 0.4203 - acc: 0.9146 - val_loss: 0.6407 - val_acc: 0.8597\n",
            "Epoch 57/100\n",
            "50000/50000 [==============================] - 22s 445us/step - loss: 0.4214 - acc: 0.9147 - val_loss: 0.6487 - val_acc: 0.8499\n",
            "Epoch 58/100\n",
            "50000/50000 [==============================] - 22s 444us/step - loss: 0.4193 - acc: 0.9159 - val_loss: 0.6207 - val_acc: 0.8672\n",
            "Epoch 59/100\n",
            "50000/50000 [==============================] - 22s 444us/step - loss: 0.4199 - acc: 0.9152 - val_loss: 0.6249 - val_acc: 0.8620\n",
            "Epoch 60/100\n",
            "50000/50000 [==============================] - 22s 446us/step - loss: 0.4185 - acc: 0.9147 - val_loss: 0.5947 - val_acc: 0.8706\n",
            "Epoch 61/100\n",
            "50000/50000 [==============================] - 22s 446us/step - loss: 0.4138 - acc: 0.9160 - val_loss: 0.6699 - val_acc: 0.8559\n",
            "Epoch 62/100\n",
            "50000/50000 [==============================] - 22s 447us/step - loss: 0.4125 - acc: 0.9176 - val_loss: 0.6195 - val_acc: 0.8642\n",
            "Epoch 63/100\n",
            "50000/50000 [==============================] - 22s 447us/step - loss: 0.4070 - acc: 0.9188 - val_loss: 0.6381 - val_acc: 0.8631\n",
            "Epoch 64/100\n",
            "50000/50000 [==============================] - 22s 445us/step - loss: 0.4158 - acc: 0.9163 - val_loss: 0.6360 - val_acc: 0.8620\n",
            "Epoch 65/100\n",
            "50000/50000 [==============================] - 22s 445us/step - loss: 0.4082 - acc: 0.9187 - val_loss: 0.6540 - val_acc: 0.8565\n",
            "Epoch 66/100\n",
            "50000/50000 [==============================] - 22s 447us/step - loss: 0.4032 - acc: 0.9190 - val_loss: 0.6104 - val_acc: 0.8660\n",
            "Epoch 67/100\n",
            "50000/50000 [==============================] - 22s 446us/step - loss: 0.4129 - acc: 0.9188 - val_loss: 0.6173 - val_acc: 0.8664\n",
            "Epoch 68/100\n",
            "50000/50000 [==============================] - 22s 446us/step - loss: 0.4069 - acc: 0.9194 - val_loss: 0.6689 - val_acc: 0.8552\n",
            "Epoch 69/100\n",
            "50000/50000 [==============================] - 22s 443us/step - loss: 0.3981 - acc: 0.9229 - val_loss: 0.6116 - val_acc: 0.8657\n",
            "Epoch 70/100\n",
            "50000/50000 [==============================] - 22s 438us/step - loss: 0.4000 - acc: 0.9212 - val_loss: 0.6255 - val_acc: 0.8648\n",
            "Epoch 71/100\n",
            "50000/50000 [==============================] - 22s 440us/step - loss: 0.3956 - acc: 0.9233 - val_loss: 0.6272 - val_acc: 0.8635\n",
            "Epoch 72/100\n",
            "50000/50000 [==============================] - 22s 439us/step - loss: 0.4025 - acc: 0.9215 - val_loss: 0.5991 - val_acc: 0.8703\n",
            "Epoch 73/100\n",
            "50000/50000 [==============================] - 22s 439us/step - loss: 0.4003 - acc: 0.9217 - val_loss: 0.6262 - val_acc: 0.8706\n",
            "Epoch 74/100\n",
            "50000/50000 [==============================] - 22s 438us/step - loss: 0.3976 - acc: 0.9223 - val_loss: 0.6268 - val_acc: 0.8632\n",
            "Epoch 75/100\n",
            "50000/50000 [==============================] - 22s 440us/step - loss: 0.3949 - acc: 0.9240 - val_loss: 0.6623 - val_acc: 0.8628\n",
            "Epoch 76/100\n",
            "50000/50000 [==============================] - 22s 440us/step - loss: 0.3956 - acc: 0.9234 - val_loss: 0.6280 - val_acc: 0.8658\n",
            "Epoch 77/100\n",
            "50000/50000 [==============================] - 22s 439us/step - loss: 0.3884 - acc: 0.9251 - val_loss: 0.6426 - val_acc: 0.8658\n",
            "Epoch 78/100\n",
            "50000/50000 [==============================] - 22s 438us/step - loss: 0.3932 - acc: 0.9246 - val_loss: 0.6110 - val_acc: 0.8724\n",
            "Epoch 79/100\n",
            "50000/50000 [==============================] - 22s 440us/step - loss: 0.3938 - acc: 0.9253 - val_loss: 0.6302 - val_acc: 0.8685\n",
            "Epoch 80/100\n",
            "50000/50000 [==============================] - 22s 440us/step - loss: 0.3900 - acc: 0.9241 - val_loss: 0.6447 - val_acc: 0.8619\n",
            "Epoch 81/100\n",
            "50000/50000 [==============================] - 22s 441us/step - loss: 0.3902 - acc: 0.9251 - val_loss: 0.6430 - val_acc: 0.8657\n",
            "Epoch 82/100\n",
            "50000/50000 [==============================] - 22s 440us/step - loss: 0.3951 - acc: 0.9240 - val_loss: 0.6268 - val_acc: 0.8628\n",
            "Epoch 83/100\n",
            "50000/50000 [==============================] - 22s 439us/step - loss: 0.3895 - acc: 0.9259 - val_loss: 0.6520 - val_acc: 0.8605\n",
            "Epoch 84/100\n",
            "50000/50000 [==============================] - 22s 442us/step - loss: 0.3922 - acc: 0.9250 - val_loss: 0.6142 - val_acc: 0.8707\n",
            "Epoch 85/100\n",
            "50000/50000 [==============================] - 22s 442us/step - loss: 0.3923 - acc: 0.9259 - val_loss: 0.6234 - val_acc: 0.8715\n",
            "Epoch 86/100\n",
            "50000/50000 [==============================] - 22s 441us/step - loss: 0.3849 - acc: 0.9282 - val_loss: 0.6174 - val_acc: 0.8690\n",
            "Epoch 87/100\n",
            "50000/50000 [==============================] - 22s 442us/step - loss: 0.3873 - acc: 0.9267 - val_loss: 0.5955 - val_acc: 0.8695\n",
            "Epoch 88/100\n",
            "50000/50000 [==============================] - 22s 446us/step - loss: 0.3837 - acc: 0.9272 - val_loss: 0.6243 - val_acc: 0.8710\n",
            "Epoch 89/100\n",
            "50000/50000 [==============================] - 22s 445us/step - loss: 0.3819 - acc: 0.9289 - val_loss: 0.6321 - val_acc: 0.8687\n",
            "Epoch 90/100\n",
            "50000/50000 [==============================] - 22s 446us/step - loss: 0.3822 - acc: 0.9287 - val_loss: 0.6143 - val_acc: 0.8670\n",
            "Epoch 91/100\n",
            "50000/50000 [==============================] - 22s 446us/step - loss: 0.3835 - acc: 0.9290 - val_loss: 0.6285 - val_acc: 0.8676\n",
            "Epoch 92/100\n",
            "50000/50000 [==============================] - 22s 445us/step - loss: 0.3857 - acc: 0.9298 - val_loss: 0.6144 - val_acc: 0.8688\n",
            "Epoch 93/100\n",
            "50000/50000 [==============================] - 22s 444us/step - loss: 0.3799 - acc: 0.9297 - val_loss: 0.6306 - val_acc: 0.8672\n",
            "Epoch 94/100\n",
            "50000/50000 [==============================] - 22s 444us/step - loss: 0.3786 - acc: 0.9298 - val_loss: 0.6255 - val_acc: 0.8661\n",
            "Epoch 95/100\n",
            "50000/50000 [==============================] - 22s 447us/step - loss: 0.3831 - acc: 0.9289 - val_loss: 0.6016 - val_acc: 0.8717\n",
            "Epoch 96/100\n",
            "50000/50000 [==============================] - 22s 444us/step - loss: 0.3795 - acc: 0.9311 - val_loss: 0.6390 - val_acc: 0.8642\n",
            "Epoch 97/100\n",
            "50000/50000 [==============================] - 22s 446us/step - loss: 0.3841 - acc: 0.9289 - val_loss: 0.6073 - val_acc: 0.8759\n",
            "Epoch 98/100\n",
            "50000/50000 [==============================] - 22s 447us/step - loss: 0.3781 - acc: 0.9314 - val_loss: 0.6142 - val_acc: 0.8660\n",
            "Epoch 99/100\n",
            "50000/50000 [==============================] - 22s 445us/step - loss: 0.3748 - acc: 0.9298 - val_loss: 0.5858 - val_acc: 0.8716\n",
            "Epoch 100/100\n",
            "50000/50000 [==============================] - 22s 445us/step - loss: 0.3809 - acc: 0.9291 - val_loss: 0.6190 - val_acc: 0.8700\n"
          ],
          "name": "stdout"
        }
      ]
    },
    {
      "metadata": {
        "id": "87IB4bwBkHbn",
        "colab_type": "code",
        "outputId": "9b2fe0ac-882c-4c9f-b0cc-0191709298e7",
        "colab": {
          "base_uri": "https://localhost:8080/",
          "height": 294
        }
      },
      "cell_type": "code",
      "source": [
        "plt.plot(history.history['acc'])\n",
        "plt.plot(history.history['val_acc'])\n",
        "plt.title(\"Accuracy\")\n",
        "plt.xlabel('epoch')\n",
        "plt.ylabel('accuracy')\n",
        "plt.legend(['train','test'])\n",
        "plt.show()"
      ],
      "execution_count": 0,
      "outputs": [
        {
          "output_type": "display_data",
          "data": {
            "image/png": "[encoded data removed]",
            "text/plain": [
              "<matplotlib.figure.Figure at 0x7fad7ccb64a8>"
            ]
          },
          "metadata": {
            "tags": []
          }
        }
      ]
    },
    {
      "metadata": {
        "id": "ffvdVLXhwHiz",
        "colab_type": "code",
        "colab": {}
      },
      "cell_type": "code",
      "source": [
        "def plot_history(history):\n",
        "    loss_list = [s for s in history.history.keys() if 'loss' in s and 'val' not in s]\n",
        "    val_loss_list = [s for s in history.history.keys() if 'loss' in s and 'val' in s]\n",
        "    acc_list = [s for s in history.history.keys() if 'acc' in s and 'val' not in s]\n",
        "    val_acc_list = [s for s in history.history.keys() if 'acc' in s and 'val' in s]\n",
        "    \n",
        "    if len(loss_list) == 0:\n",
        "        print('Loss is missing in history')\n",
        "        return \n",
        "    \n",
        "    ## As loss always exists\n",
        "    epochs = range(1,len(history.history[loss_list[0]]) + 1)\n",
        "    \n",
        "    ## Loss\n",
        "    plt.figure(1)\n",
        "    for l in loss_list:\n",
        "        plt.plot(epochs, history.history[l], 'b', label='Training loss (' + str(str(format(history.history[l][-1],'.5f'))+')'))\n",
        "    for l in val_loss_list:\n",
        "        plt.plot(epochs, history.history[l], 'g', label='Validation loss (' + str(str(format(history.history[l][-1],'.5f'))+')'))\n",
        "    \n",
        "    plt.title('Loss')\n",
        "    plt.xlabel('Epochs')\n",
        "    plt.ylabel('Loss')\n",
        "    plt.legend()\n",
        "    \n",
        "    ## Accuracy\n",
        "    plt.figure(2)\n",
        "    for l in acc_list:\n",
        "        plt.plot(epochs, history.history[l], 'b', label='Training accuracy (' + str(format(history.history[l][-1],'.5f'))+')')\n",
        "    for l in val_acc_list:    \n",
        "        plt.plot(epochs, history.history[l], 'g', label='Validation accuracy (' + str(format(history.history[l][-1],'.5f'))+')')\n",
        "\n",
        "    plt.title('Accuracy')\n",
        "    plt.xlabel('Epochs')\n",
        "    plt.ylabel('Accuracy')\n",
        "    plt.legend()\n",
        "    plt.show()"
      ],
      "execution_count": 0,
      "outputs": []
    },
    {
      "metadata": {
        "id": "KjibKOdP6Y64",
        "colab_type": "code",
        "outputId": "33f3e175-2cb6-4d03-f2cc-605c785beb56",
        "colab": {
          "base_uri": "https://localhost:8080/",
          "height": 571
        }
      },
      "cell_type": "code",
      "source": [
        "plot_history(history)"
      ],
      "execution_count": 0,
      "outputs": [
        {
          "output_type": "display_data",
          "data": {
            "image/png": "[encoded data removed]",
            "text/plain": [
              "<matplotlib.figure.Figure at 0x7fad7ccb6400>"
            ]
          },
          "metadata": {
            "tags": []
          }
        },
        {
          "output_type": "display_data",
          "data": {
            "image/png": "[encoded data removed]",
            "text/plain": [
              "<matplotlib.figure.Figure at 0x7fad7ca98f28>"
            ]
          },
          "metadata": {
            "tags": []
          }
        }
      ]
    },
    {
      "metadata": {
        "id": "deu2tQt06cyD",
        "colab_type": "code",
        "outputId": "550fdbce-eab3-4ed3-b101-c7b248fbd5e3",
        "colab": {
          "base_uri": "https://localhost:8080/",
          "height": 241
        }
      },
      "cell_type": "code",
      "source": [
        "!ln -sf /opt/bin/nvidia-smi /usr/bin/nvidia-smi\n",
        "!pip install gputil\n",
        "!pip install psutil\n",
        "!pip install humanize\n",
        "import psutil\n",
        "import humanize\n",
        "import os\n",
        "import GPUtil as GPU\n",
        "GPUs = GPU.getGPUs()\n",
        "# XXX: only one GPU on Colab and isn’t guaranteed\n",
        "gpu = GPUs[0]\n",
        "def printm():\n",
        " process = psutil.Process(os.getpid())\n",
        " print(\"Gen RAM Free: \" + humanize.naturalsize( psutil.virtual_memory().available ), \" | Proc size: \" + humanize.naturalsize( process.memory_info().rss))\n",
        " print(\"GPU RAM Free: {0:.0f}MB | Used: {1:.0f}MB | Util {2:3.0f}% | Total {3:.0f}MB\".format(gpu.memoryFree, gpu.memoryUsed, gpu.memoryUtil*100, gpu.memoryTotal))\n",
        "printm()"
      ],
      "execution_count": 0,
      "outputs": [
        {
          "output_type": "stream",
          "text": [
            "Collecting gputil\n",
            "  Downloading https://files.pythonhosted.org/packages/ed/0e/5c61eedde9f6c87713e89d794f01e378cfd9565847d4576fa627d758c554/GPUtil-1.4.0.tar.gz\n",
            "Building wheels for collected packages: gputil\n",
            "  Running setup.py bdist_wheel for gputil ... \u001b[?25l-\b \bdone\n",
            "\u001b[?25h  Stored in directory: /root/.cache/pip/wheels/3d/77/07/80562de4bb0786e5ea186911a2c831fdd0018bda69beab71fd\n",
            "Successfully built gputil\n",
            "Installing collected packages: gputil\n",
            "Successfully installed gputil-1.4.0\n",
            "Requirement already satisfied: psutil in /usr/local/lib/python3.6/dist-packages (5.4.8)\n",
            "Requirement already satisfied: humanize in /usr/local/lib/python3.6/dist-packages (0.5.1)\n",
            "Gen RAM Free: 12.9 GB  | Proc size: 311.4 MB\n",
            "GPU RAM Free: 11441MB | Used: 0MB | Util   0% | Total 11441MB\n"
          ],
          "name": "stdout"
        }
      ]
    },
    {
      "metadata": {
        "id": "zX-6dlEIgwl1",
        "colab_type": "code",
        "colab": {}
      },
      "cell_type": "code",
      "source": [
        ""
      ],
      "execution_count": 0,
      "outputs": []
    }
  ]
}